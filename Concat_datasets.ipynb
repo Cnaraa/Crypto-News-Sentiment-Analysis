{
  "nbformat": 4,
  "nbformat_minor": 0,
  "metadata": {
    "colab": {
      "provenance": [],
      "mount_file_id": "1hI_WDsmhqAmqo8Anp8x-mvP21Mj__hcD",
      "authorship_tag": "ABX9TyPyZCfT74YX3VRuaS5wb6Lo"
    },
    "kernelspec": {
      "name": "python3",
      "display_name": "Python 3"
    },
    "language_info": {
      "name": "python"
    }
  },
  "cells": [
    {
      "cell_type": "code",
      "execution_count": 1,
      "metadata": {
        "id": "-G7mVaKqMexP"
      },
      "outputs": [],
      "source": [
        "import pandas as pd\n",
        "import numpy as np"
      ]
    },
    {
      "cell_type": "code",
      "source": [
        "bitcoin_com = pd.read_csv() #file path\n",
        "bitcoin_magazine = pd.read_csv()\n",
        "bitcoinist = pd.read_csv()\n",
        "coindesk = pd.read_csv()\n",
        "coingape = pd.read_csv()\n",
        "cryptodaily = pd.read_csv()\n",
        "decrypt = pd.read_csv()\n",
        "cointelegraph = pd.read_csv()"
      ],
      "metadata": {
        "id": "w6xRKvmgMs12"
      },
      "execution_count": 2,
      "outputs": []
    },
    {
      "cell_type": "code",
      "source": [
        "pdList = [bitcoin_com, bitcoin_magazine, bitcoinist, coindesk, coingape, cryptodaily, decrypt, cointelegraph]  # List of your dataframes\n",
        "df = pd.concat(pdList)"
      ],
      "metadata": {
        "id": "ssqa6kI2M3gl"
      },
      "execution_count": 3,
      "outputs": []
    },
    {
      "cell_type": "code",
      "source": [
        "df.shape"
      ],
      "metadata": {
        "colab": {
          "base_uri": "https://localhost:8080/"
        },
        "id": "lPoyjHuTNvkU",
        "outputId": "1cf9c8de-cb4b-41b2-cb84-d0edc95ccf6e"
      },
      "execution_count": 4,
      "outputs": [
        {
          "output_type": "execute_result",
          "data": {
            "text/plain": [
              "(55080, 4)"
            ]
          },
          "metadata": {},
          "execution_count": 4
        }
      ]
    },
    {
      "cell_type": "code",
      "source": [
        "df.drop_duplicates(subset=['title'], inplace=True)\n",
        "df.drop_duplicates(subset=['text'], inplace=True)\n",
        "df.dropna(inplace=True)"
      ],
      "metadata": {
        "id": "vkjS51ziOZZR"
      },
      "execution_count": 5,
      "outputs": []
    },
    {
      "cell_type": "code",
      "source": [
        "df.shape"
      ],
      "metadata": {
        "colab": {
          "base_uri": "https://localhost:8080/"
        },
        "id": "vNuz_MLZObEH",
        "outputId": "b49fb757-e956-45f3-dccb-0315804ee3ed"
      },
      "execution_count": 6,
      "outputs": [
        {
          "output_type": "execute_result",
          "data": {
            "text/plain": [
              "(54609, 4)"
            ]
          },
          "metadata": {},
          "execution_count": 6
        }
      ]
    },
    {
      "cell_type": "code",
      "source": [
        "df.to_csv('cryptonews_dataset.csv', index=False)"
      ],
      "metadata": {
        "id": "jnGAGHMyNw6c"
      },
      "execution_count": 7,
      "outputs": []
    },
    {
      "cell_type": "code",
      "source": [],
      "metadata": {
        "id": "kitR4zdHZezq"
      },
      "execution_count": null,
      "outputs": []
    }
  ]
}