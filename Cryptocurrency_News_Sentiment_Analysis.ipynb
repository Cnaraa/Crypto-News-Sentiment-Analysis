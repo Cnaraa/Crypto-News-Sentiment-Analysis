{
  "cells": [
    {
      "cell_type": "markdown",
      "metadata": {
        "id": "view-in-github",
        "colab_type": "text"
      },
      "source": [
        "<a href=\"https://colab.research.google.com/github/Cnaraa/Crypto-News-Sentiment-Analysis/blob/main/Cryptocurrency_News_Sentiment_Analysis.ipynb\" target=\"_parent\"><img src=\"https://colab.research.google.com/assets/colab-badge.svg\" alt=\"Open In Colab\"/></a>"
      ]
    },
    {
      "cell_type": "code",
      "execution_count": 1,
      "metadata": {
        "id": "4zCRVUYuiMyB"
      },
      "outputs": [],
      "source": [
        "import pandas as pd\n",
        "import nltk\n",
        "from nltk.tokenize import word_tokenize\n",
        "from nltk.corpus import stopwords\n",
        "from nltk.stem import WordNetLemmatizer\n",
        "import string\n",
        "import numpy as np\n",
        "import tensorflow as tf"
      ]
    },
    {
      "cell_type": "code",
      "execution_count": 2,
      "metadata": {
        "colab": {
          "base_uri": "https://localhost:8080/"
        },
        "id": "lcQgOpami02Z",
        "outputId": "9c9e8551-d68b-44e2-d089-bf3c0bb69505"
      },
      "outputs": [
        {
          "output_type": "stream",
          "name": "stderr",
          "text": [
            "[nltk_data] Downloading package punkt to ....\n",
            "[nltk_data]   Unzipping tokenizers/punkt.zip.\n",
            "[nltk_data] Downloading package stopwords to /root/nltk_data...\n",
            "[nltk_data]   Unzipping corpora/stopwords.zip.\n",
            "[nltk_data] Downloading package wordnet to /root/nltk_data...\n"
          ]
        },
        {
          "output_type": "execute_result",
          "data": {
            "text/plain": [
              "True"
            ]
          },
          "metadata": {},
          "execution_count": 2
        }
      ],
      "source": [
        "nltk.download('punkt', download_dir='.') #дополнительный словарь со знаками пунктуации\n",
        "nltk.download('stopwords') #дополнительный словарь со стопсловами\n",
        "nltk.download('wordnet') #?"
      ]
    },
    {
      "cell_type": "code",
      "execution_count": 3,
      "metadata": {
        "id": "VxB9HodaileW"
      },
      "outputs": [],
      "source": [
        "filepath = '/content/drive/MyDrive/Colab Notebooks/Практика ML/Datasets/cryptonews_dataset.csv'"
      ]
    },
    {
      "cell_type": "code",
      "execution_count": 4,
      "metadata": {
        "id": "YOdDQ82ripCM"
      },
      "outputs": [],
      "source": [
        "df = pd.read_csv(filepath)"
      ]
    },
    {
      "cell_type": "code",
      "source": [
        "df"
      ],
      "metadata": {
        "colab": {
          "base_uri": "https://localhost:8080/",
          "height": 424
        },
        "id": "w6FHAJJCxd1X",
        "outputId": "ade3aba9-6293-4603-b6cc-fd8603869a12"
      },
      "execution_count": 5,
      "outputs": [
        {
          "output_type": "execute_result",
          "data": {
            "text/plain": [
              "                                                   title        date  \\\n",
              "0      The XR Foundation Launches XR One: A Revolutio...  2024-05-15   \n",
              "1      Shibaswap Migrates to Shibarium Network, Expan...  2024-05-15   \n",
              "2      Oklahoma Enacts Landmark Bill to Regulate Digi...  2024-05-15   \n",
              "3      Global Banking Authorities Extend Crypto Regul...  2024-05-15   \n",
              "4              TRON DAO at Cornell Blockchain Conference  2024-05-15   \n",
              "...                                                  ...         ...   \n",
              "54604  KnCMiner finished production of Jupiter bitcoi...  2013-10-01   \n",
              "54605  The slow decline of Bitcoin’s biggest exchange...  2013-09-04   \n",
              "54606                             Is Bitcoin a currency?  2013-09-01   \n",
              "54607  What happened at the US regulators’ bitcoin me...  2013-08-27   \n",
              "54608                       Bitcoin is a bikers business  2013-08-05   \n",
              "\n",
              "                                                    text sentiment  \n",
              "0      PRESS RELEASE. The XR Foundation in partnershi...  POSITIVE  \n",
              "1      On May 15, the development team for the meme t...  POSITIVE  \n",
              "2      The governor of the U.S. state of Oklahoma has...  POSITIVE  \n",
              "3      The Group of Central Bank Governors and Heads ...   NEUTRAL  \n",
              "4      PRESS RELEASE. Geneva, Switzerland, May 15, 20...  POSITIVE  \n",
              "...                                                  ...       ...  \n",
              "54604  The Sweden-based company KnCMiner has has alre...  POSITIVE  \n",
              "54605  Mt. Gox is the greatest Bitcoin exchange in th...   NEUTRAL  \n",
              "54606  Internet comments are periodically similar to ...   NEUTRAL  \n",
              "54607  Yesterday Bitcoin Foundation had a meeting wit...  POSITIVE  \n",
              "54608  LocalBitcoins.com sponsored an ambitious motor...   NEUTRAL  \n",
              "\n",
              "[54609 rows x 4 columns]"
            ],
            "text/html": [
              "\n",
              "  <div id=\"df-4c41b824-2445-4058-ab92-f11013ea3474\" class=\"colab-df-container\">\n",
              "    <div>\n",
              "<style scoped>\n",
              "    .dataframe tbody tr th:only-of-type {\n",
              "        vertical-align: middle;\n",
              "    }\n",
              "\n",
              "    .dataframe tbody tr th {\n",
              "        vertical-align: top;\n",
              "    }\n",
              "\n",
              "    .dataframe thead th {\n",
              "        text-align: right;\n",
              "    }\n",
              "</style>\n",
              "<table border=\"1\" class=\"dataframe\">\n",
              "  <thead>\n",
              "    <tr style=\"text-align: right;\">\n",
              "      <th></th>\n",
              "      <th>title</th>\n",
              "      <th>date</th>\n",
              "      <th>text</th>\n",
              "      <th>sentiment</th>\n",
              "    </tr>\n",
              "  </thead>\n",
              "  <tbody>\n",
              "    <tr>\n",
              "      <th>0</th>\n",
              "      <td>The XR Foundation Launches XR One: A Revolutio...</td>\n",
              "      <td>2024-05-15</td>\n",
              "      <td>PRESS RELEASE. The XR Foundation in partnershi...</td>\n",
              "      <td>POSITIVE</td>\n",
              "    </tr>\n",
              "    <tr>\n",
              "      <th>1</th>\n",
              "      <td>Shibaswap Migrates to Shibarium Network, Expan...</td>\n",
              "      <td>2024-05-15</td>\n",
              "      <td>On May 15, the development team for the meme t...</td>\n",
              "      <td>POSITIVE</td>\n",
              "    </tr>\n",
              "    <tr>\n",
              "      <th>2</th>\n",
              "      <td>Oklahoma Enacts Landmark Bill to Regulate Digi...</td>\n",
              "      <td>2024-05-15</td>\n",
              "      <td>The governor of the U.S. state of Oklahoma has...</td>\n",
              "      <td>POSITIVE</td>\n",
              "    </tr>\n",
              "    <tr>\n",
              "      <th>3</th>\n",
              "      <td>Global Banking Authorities Extend Crypto Regul...</td>\n",
              "      <td>2024-05-15</td>\n",
              "      <td>The Group of Central Bank Governors and Heads ...</td>\n",
              "      <td>NEUTRAL</td>\n",
              "    </tr>\n",
              "    <tr>\n",
              "      <th>4</th>\n",
              "      <td>TRON DAO at Cornell Blockchain Conference</td>\n",
              "      <td>2024-05-15</td>\n",
              "      <td>PRESS RELEASE. Geneva, Switzerland, May 15, 20...</td>\n",
              "      <td>POSITIVE</td>\n",
              "    </tr>\n",
              "    <tr>\n",
              "      <th>...</th>\n",
              "      <td>...</td>\n",
              "      <td>...</td>\n",
              "      <td>...</td>\n",
              "      <td>...</td>\n",
              "    </tr>\n",
              "    <tr>\n",
              "      <th>54604</th>\n",
              "      <td>KnCMiner finished production of Jupiter bitcoi...</td>\n",
              "      <td>2013-10-01</td>\n",
              "      <td>The Sweden-based company KnCMiner has has alre...</td>\n",
              "      <td>POSITIVE</td>\n",
              "    </tr>\n",
              "    <tr>\n",
              "      <th>54605</th>\n",
              "      <td>The slow decline of Bitcoin’s biggest exchange...</td>\n",
              "      <td>2013-09-04</td>\n",
              "      <td>Mt. Gox is the greatest Bitcoin exchange in th...</td>\n",
              "      <td>NEUTRAL</td>\n",
              "    </tr>\n",
              "    <tr>\n",
              "      <th>54606</th>\n",
              "      <td>Is Bitcoin a currency?</td>\n",
              "      <td>2013-09-01</td>\n",
              "      <td>Internet comments are periodically similar to ...</td>\n",
              "      <td>NEUTRAL</td>\n",
              "    </tr>\n",
              "    <tr>\n",
              "      <th>54607</th>\n",
              "      <td>What happened at the US regulators’ bitcoin me...</td>\n",
              "      <td>2013-08-27</td>\n",
              "      <td>Yesterday Bitcoin Foundation had a meeting wit...</td>\n",
              "      <td>POSITIVE</td>\n",
              "    </tr>\n",
              "    <tr>\n",
              "      <th>54608</th>\n",
              "      <td>Bitcoin is a bikers business</td>\n",
              "      <td>2013-08-05</td>\n",
              "      <td>LocalBitcoins.com sponsored an ambitious motor...</td>\n",
              "      <td>NEUTRAL</td>\n",
              "    </tr>\n",
              "  </tbody>\n",
              "</table>\n",
              "<p>54609 rows × 4 columns</p>\n",
              "</div>\n",
              "    <div class=\"colab-df-buttons\">\n",
              "\n",
              "  <div class=\"colab-df-container\">\n",
              "    <button class=\"colab-df-convert\" onclick=\"convertToInteractive('df-4c41b824-2445-4058-ab92-f11013ea3474')\"\n",
              "            title=\"Convert this dataframe to an interactive table.\"\n",
              "            style=\"display:none;\">\n",
              "\n",
              "  <svg xmlns=\"http://www.w3.org/2000/svg\" height=\"24px\" viewBox=\"0 -960 960 960\">\n",
              "    <path d=\"M120-120v-720h720v720H120Zm60-500h600v-160H180v160Zm220 220h160v-160H400v160Zm0 220h160v-160H400v160ZM180-400h160v-160H180v160Zm440 0h160v-160H620v160ZM180-180h160v-160H180v160Zm440 0h160v-160H620v160Z\"/>\n",
              "  </svg>\n",
              "    </button>\n",
              "\n",
              "  <style>\n",
              "    .colab-df-container {\n",
              "      display:flex;\n",
              "      gap: 12px;\n",
              "    }\n",
              "\n",
              "    .colab-df-convert {\n",
              "      background-color: #E8F0FE;\n",
              "      border: none;\n",
              "      border-radius: 50%;\n",
              "      cursor: pointer;\n",
              "      display: none;\n",
              "      fill: #1967D2;\n",
              "      height: 32px;\n",
              "      padding: 0 0 0 0;\n",
              "      width: 32px;\n",
              "    }\n",
              "\n",
              "    .colab-df-convert:hover {\n",
              "      background-color: #E2EBFA;\n",
              "      box-shadow: 0px 1px 2px rgba(60, 64, 67, 0.3), 0px 1px 3px 1px rgba(60, 64, 67, 0.15);\n",
              "      fill: #174EA6;\n",
              "    }\n",
              "\n",
              "    .colab-df-buttons div {\n",
              "      margin-bottom: 4px;\n",
              "    }\n",
              "\n",
              "    [theme=dark] .colab-df-convert {\n",
              "      background-color: #3B4455;\n",
              "      fill: #D2E3FC;\n",
              "    }\n",
              "\n",
              "    [theme=dark] .colab-df-convert:hover {\n",
              "      background-color: #434B5C;\n",
              "      box-shadow: 0px 1px 3px 1px rgba(0, 0, 0, 0.15);\n",
              "      filter: drop-shadow(0px 1px 2px rgba(0, 0, 0, 0.3));\n",
              "      fill: #FFFFFF;\n",
              "    }\n",
              "  </style>\n",
              "\n",
              "    <script>\n",
              "      const buttonEl =\n",
              "        document.querySelector('#df-4c41b824-2445-4058-ab92-f11013ea3474 button.colab-df-convert');\n",
              "      buttonEl.style.display =\n",
              "        google.colab.kernel.accessAllowed ? 'block' : 'none';\n",
              "\n",
              "      async function convertToInteractive(key) {\n",
              "        const element = document.querySelector('#df-4c41b824-2445-4058-ab92-f11013ea3474');\n",
              "        const dataTable =\n",
              "          await google.colab.kernel.invokeFunction('convertToInteractive',\n",
              "                                                    [key], {});\n",
              "        if (!dataTable) return;\n",
              "\n",
              "        const docLinkHtml = 'Like what you see? Visit the ' +\n",
              "          '<a target=\"_blank\" href=https://colab.research.google.com/notebooks/data_table.ipynb>data table notebook</a>'\n",
              "          + ' to learn more about interactive tables.';\n",
              "        element.innerHTML = '';\n",
              "        dataTable['output_type'] = 'display_data';\n",
              "        await google.colab.output.renderOutput(dataTable, element);\n",
              "        const docLink = document.createElement('div');\n",
              "        docLink.innerHTML = docLinkHtml;\n",
              "        element.appendChild(docLink);\n",
              "      }\n",
              "    </script>\n",
              "  </div>\n",
              "\n",
              "\n",
              "<div id=\"df-07ab5ea1-9e34-4845-8ad2-239a46cd21e3\">\n",
              "  <button class=\"colab-df-quickchart\" onclick=\"quickchart('df-07ab5ea1-9e34-4845-8ad2-239a46cd21e3')\"\n",
              "            title=\"Suggest charts\"\n",
              "            style=\"display:none;\">\n",
              "\n",
              "<svg xmlns=\"http://www.w3.org/2000/svg\" height=\"24px\"viewBox=\"0 0 24 24\"\n",
              "     width=\"24px\">\n",
              "    <g>\n",
              "        <path d=\"M19 3H5c-1.1 0-2 .9-2 2v14c0 1.1.9 2 2 2h14c1.1 0 2-.9 2-2V5c0-1.1-.9-2-2-2zM9 17H7v-7h2v7zm4 0h-2V7h2v10zm4 0h-2v-4h2v4z\"/>\n",
              "    </g>\n",
              "</svg>\n",
              "  </button>\n",
              "\n",
              "<style>\n",
              "  .colab-df-quickchart {\n",
              "      --bg-color: #E8F0FE;\n",
              "      --fill-color: #1967D2;\n",
              "      --hover-bg-color: #E2EBFA;\n",
              "      --hover-fill-color: #174EA6;\n",
              "      --disabled-fill-color: #AAA;\n",
              "      --disabled-bg-color: #DDD;\n",
              "  }\n",
              "\n",
              "  [theme=dark] .colab-df-quickchart {\n",
              "      --bg-color: #3B4455;\n",
              "      --fill-color: #D2E3FC;\n",
              "      --hover-bg-color: #434B5C;\n",
              "      --hover-fill-color: #FFFFFF;\n",
              "      --disabled-bg-color: #3B4455;\n",
              "      --disabled-fill-color: #666;\n",
              "  }\n",
              "\n",
              "  .colab-df-quickchart {\n",
              "    background-color: var(--bg-color);\n",
              "    border: none;\n",
              "    border-radius: 50%;\n",
              "    cursor: pointer;\n",
              "    display: none;\n",
              "    fill: var(--fill-color);\n",
              "    height: 32px;\n",
              "    padding: 0;\n",
              "    width: 32px;\n",
              "  }\n",
              "\n",
              "  .colab-df-quickchart:hover {\n",
              "    background-color: var(--hover-bg-color);\n",
              "    box-shadow: 0 1px 2px rgba(60, 64, 67, 0.3), 0 1px 3px 1px rgba(60, 64, 67, 0.15);\n",
              "    fill: var(--button-hover-fill-color);\n",
              "  }\n",
              "\n",
              "  .colab-df-quickchart-complete:disabled,\n",
              "  .colab-df-quickchart-complete:disabled:hover {\n",
              "    background-color: var(--disabled-bg-color);\n",
              "    fill: var(--disabled-fill-color);\n",
              "    box-shadow: none;\n",
              "  }\n",
              "\n",
              "  .colab-df-spinner {\n",
              "    border: 2px solid var(--fill-color);\n",
              "    border-color: transparent;\n",
              "    border-bottom-color: var(--fill-color);\n",
              "    animation:\n",
              "      spin 1s steps(1) infinite;\n",
              "  }\n",
              "\n",
              "  @keyframes spin {\n",
              "    0% {\n",
              "      border-color: transparent;\n",
              "      border-bottom-color: var(--fill-color);\n",
              "      border-left-color: var(--fill-color);\n",
              "    }\n",
              "    20% {\n",
              "      border-color: transparent;\n",
              "      border-left-color: var(--fill-color);\n",
              "      border-top-color: var(--fill-color);\n",
              "    }\n",
              "    30% {\n",
              "      border-color: transparent;\n",
              "      border-left-color: var(--fill-color);\n",
              "      border-top-color: var(--fill-color);\n",
              "      border-right-color: var(--fill-color);\n",
              "    }\n",
              "    40% {\n",
              "      border-color: transparent;\n",
              "      border-right-color: var(--fill-color);\n",
              "      border-top-color: var(--fill-color);\n",
              "    }\n",
              "    60% {\n",
              "      border-color: transparent;\n",
              "      border-right-color: var(--fill-color);\n",
              "    }\n",
              "    80% {\n",
              "      border-color: transparent;\n",
              "      border-right-color: var(--fill-color);\n",
              "      border-bottom-color: var(--fill-color);\n",
              "    }\n",
              "    90% {\n",
              "      border-color: transparent;\n",
              "      border-bottom-color: var(--fill-color);\n",
              "    }\n",
              "  }\n",
              "</style>\n",
              "\n",
              "  <script>\n",
              "    async function quickchart(key) {\n",
              "      const quickchartButtonEl =\n",
              "        document.querySelector('#' + key + ' button');\n",
              "      quickchartButtonEl.disabled = true;  // To prevent multiple clicks.\n",
              "      quickchartButtonEl.classList.add('colab-df-spinner');\n",
              "      try {\n",
              "        const charts = await google.colab.kernel.invokeFunction(\n",
              "            'suggestCharts', [key], {});\n",
              "      } catch (error) {\n",
              "        console.error('Error during call to suggestCharts:', error);\n",
              "      }\n",
              "      quickchartButtonEl.classList.remove('colab-df-spinner');\n",
              "      quickchartButtonEl.classList.add('colab-df-quickchart-complete');\n",
              "    }\n",
              "    (() => {\n",
              "      let quickchartButtonEl =\n",
              "        document.querySelector('#df-07ab5ea1-9e34-4845-8ad2-239a46cd21e3 button');\n",
              "      quickchartButtonEl.style.display =\n",
              "        google.colab.kernel.accessAllowed ? 'block' : 'none';\n",
              "    })();\n",
              "  </script>\n",
              "</div>\n",
              "    </div>\n",
              "  </div>\n"
            ],
            "application/vnd.google.colaboratory.intrinsic+json": {
              "type": "dataframe",
              "variable_name": "df",
              "summary": "{\n  \"name\": \"df\",\n  \"rows\": 54609,\n  \"fields\": [\n    {\n      \"column\": \"title\",\n      \"properties\": {\n        \"dtype\": \"string\",\n        \"num_unique_values\": 54609,\n        \"samples\": [\n          \"Bitcoin \\u2018Danger Zone\\u2019 In 2 Days: Crypto Expert Explains What This Means\",\n          \"MicroStrategy Holds 130,000 Bitcoin Following $6 Million Purchase\",\n          \"Will Bitcoin Price Renews Lows Below $18,000?\"\n        ],\n        \"semantic_type\": \"\",\n        \"description\": \"\"\n      }\n    },\n    {\n      \"column\": \"date\",\n      \"properties\": {\n        \"dtype\": \"object\",\n        \"num_unique_values\": 2451,\n        \"samples\": [\n          \"2021-12-05\",\n          \"2021-12-11\",\n          \"2020-12-30\"\n        ],\n        \"semantic_type\": \"\",\n        \"description\": \"\"\n      }\n    },\n    {\n      \"column\": \"text\",\n      \"properties\": {\n        \"dtype\": \"string\",\n        \"num_unique_values\": 54609,\n        \"samples\": [\n          \"Crypto analyst Rekt Capital has dropped a peculiar analysis on when Bitcoin might resume its upward trajectory. According to a post on social media platform X by the popular analyst, Bitcoin could fin \\u2026\",\n          \"Founder and executive chairman for software company MicroStrategy announced a Bitcoin purchase of $6 million. According to a document file with the U.S. Securities and Exchange Commission (SEC), the c \\u2026\",\n          \"Bitcoin price is currently trading in a lower trading zone. The selling accelerated as the price breached below $19,000 for the first time since June. As long the price stayed below the mentioned leve \\u2026\"\n        ],\n        \"semantic_type\": \"\",\n        \"description\": \"\"\n      }\n    },\n    {\n      \"column\": \"sentiment\",\n      \"properties\": {\n        \"dtype\": \"category\",\n        \"num_unique_values\": 3,\n        \"samples\": [\n          \"POSITIVE\",\n          \"NEUTRAL\",\n          \"NEGATIVE\"\n        ],\n        \"semantic_type\": \"\",\n        \"description\": \"\"\n      }\n    }\n  ]\n}"
            }
          },
          "metadata": {},
          "execution_count": 5
        }
      ]
    },
    {
      "cell_type": "code",
      "execution_count": 6,
      "metadata": {
        "id": "gINnj9yJipo8"
      },
      "outputs": [],
      "source": [
        "df[\"sentiment\"] = df[\"sentiment\"].replace([\"POSITIVE\"], 0)\n",
        "df[\"sentiment\"] = df[\"sentiment\"].replace([\"NEUTRAL\"], 1)\n",
        "df[\"sentiment\"] = df[\"sentiment\"].replace([\"NEGATIVE\"], 2)"
      ]
    },
    {
      "cell_type": "code",
      "execution_count": 7,
      "metadata": {
        "colab": {
          "base_uri": "https://localhost:8080/"
        },
        "id": "C-Sap5fkixAS",
        "outputId": "fa8c98cb-130d-43ed-a20c-b592716219a2"
      },
      "outputs": [
        {
          "output_type": "execute_result",
          "data": {
            "text/plain": [
              "(54609, 4)"
            ]
          },
          "metadata": {},
          "execution_count": 7
        }
      ],
      "source": [
        "df.shape"
      ]
    },
    {
      "cell_type": "code",
      "source": [
        "df"
      ],
      "metadata": {
        "colab": {
          "base_uri": "https://localhost:8080/",
          "height": 424
        },
        "id": "GrA6d_DlwH6Y",
        "outputId": "59d31fb2-1d5c-47f6-cd54-cb3e81a688d3"
      },
      "execution_count": 8,
      "outputs": [
        {
          "output_type": "execute_result",
          "data": {
            "text/plain": [
              "                                                   title        date  \\\n",
              "0      The XR Foundation Launches XR One: A Revolutio...  2024-05-15   \n",
              "1      Shibaswap Migrates to Shibarium Network, Expan...  2024-05-15   \n",
              "2      Oklahoma Enacts Landmark Bill to Regulate Digi...  2024-05-15   \n",
              "3      Global Banking Authorities Extend Crypto Regul...  2024-05-15   \n",
              "4              TRON DAO at Cornell Blockchain Conference  2024-05-15   \n",
              "...                                                  ...         ...   \n",
              "54604  KnCMiner finished production of Jupiter bitcoi...  2013-10-01   \n",
              "54605  The slow decline of Bitcoin’s biggest exchange...  2013-09-04   \n",
              "54606                             Is Bitcoin a currency?  2013-09-01   \n",
              "54607  What happened at the US regulators’ bitcoin me...  2013-08-27   \n",
              "54608                       Bitcoin is a bikers business  2013-08-05   \n",
              "\n",
              "                                                    text  sentiment  \n",
              "0      PRESS RELEASE. The XR Foundation in partnershi...          0  \n",
              "1      On May 15, the development team for the meme t...          0  \n",
              "2      The governor of the U.S. state of Oklahoma has...          0  \n",
              "3      The Group of Central Bank Governors and Heads ...          1  \n",
              "4      PRESS RELEASE. Geneva, Switzerland, May 15, 20...          0  \n",
              "...                                                  ...        ...  \n",
              "54604  The Sweden-based company KnCMiner has has alre...          0  \n",
              "54605  Mt. Gox is the greatest Bitcoin exchange in th...          1  \n",
              "54606  Internet comments are periodically similar to ...          1  \n",
              "54607  Yesterday Bitcoin Foundation had a meeting wit...          0  \n",
              "54608  LocalBitcoins.com sponsored an ambitious motor...          1  \n",
              "\n",
              "[54609 rows x 4 columns]"
            ],
            "text/html": [
              "\n",
              "  <div id=\"df-4ee06154-81b7-4cb5-9c79-3fdbd2c41457\" class=\"colab-df-container\">\n",
              "    <div>\n",
              "<style scoped>\n",
              "    .dataframe tbody tr th:only-of-type {\n",
              "        vertical-align: middle;\n",
              "    }\n",
              "\n",
              "    .dataframe tbody tr th {\n",
              "        vertical-align: top;\n",
              "    }\n",
              "\n",
              "    .dataframe thead th {\n",
              "        text-align: right;\n",
              "    }\n",
              "</style>\n",
              "<table border=\"1\" class=\"dataframe\">\n",
              "  <thead>\n",
              "    <tr style=\"text-align: right;\">\n",
              "      <th></th>\n",
              "      <th>title</th>\n",
              "      <th>date</th>\n",
              "      <th>text</th>\n",
              "      <th>sentiment</th>\n",
              "    </tr>\n",
              "  </thead>\n",
              "  <tbody>\n",
              "    <tr>\n",
              "      <th>0</th>\n",
              "      <td>The XR Foundation Launches XR One: A Revolutio...</td>\n",
              "      <td>2024-05-15</td>\n",
              "      <td>PRESS RELEASE. The XR Foundation in partnershi...</td>\n",
              "      <td>0</td>\n",
              "    </tr>\n",
              "    <tr>\n",
              "      <th>1</th>\n",
              "      <td>Shibaswap Migrates to Shibarium Network, Expan...</td>\n",
              "      <td>2024-05-15</td>\n",
              "      <td>On May 15, the development team for the meme t...</td>\n",
              "      <td>0</td>\n",
              "    </tr>\n",
              "    <tr>\n",
              "      <th>2</th>\n",
              "      <td>Oklahoma Enacts Landmark Bill to Regulate Digi...</td>\n",
              "      <td>2024-05-15</td>\n",
              "      <td>The governor of the U.S. state of Oklahoma has...</td>\n",
              "      <td>0</td>\n",
              "    </tr>\n",
              "    <tr>\n",
              "      <th>3</th>\n",
              "      <td>Global Banking Authorities Extend Crypto Regul...</td>\n",
              "      <td>2024-05-15</td>\n",
              "      <td>The Group of Central Bank Governors and Heads ...</td>\n",
              "      <td>1</td>\n",
              "    </tr>\n",
              "    <tr>\n",
              "      <th>4</th>\n",
              "      <td>TRON DAO at Cornell Blockchain Conference</td>\n",
              "      <td>2024-05-15</td>\n",
              "      <td>PRESS RELEASE. Geneva, Switzerland, May 15, 20...</td>\n",
              "      <td>0</td>\n",
              "    </tr>\n",
              "    <tr>\n",
              "      <th>...</th>\n",
              "      <td>...</td>\n",
              "      <td>...</td>\n",
              "      <td>...</td>\n",
              "      <td>...</td>\n",
              "    </tr>\n",
              "    <tr>\n",
              "      <th>54604</th>\n",
              "      <td>KnCMiner finished production of Jupiter bitcoi...</td>\n",
              "      <td>2013-10-01</td>\n",
              "      <td>The Sweden-based company KnCMiner has has alre...</td>\n",
              "      <td>0</td>\n",
              "    </tr>\n",
              "    <tr>\n",
              "      <th>54605</th>\n",
              "      <td>The slow decline of Bitcoin’s biggest exchange...</td>\n",
              "      <td>2013-09-04</td>\n",
              "      <td>Mt. Gox is the greatest Bitcoin exchange in th...</td>\n",
              "      <td>1</td>\n",
              "    </tr>\n",
              "    <tr>\n",
              "      <th>54606</th>\n",
              "      <td>Is Bitcoin a currency?</td>\n",
              "      <td>2013-09-01</td>\n",
              "      <td>Internet comments are periodically similar to ...</td>\n",
              "      <td>1</td>\n",
              "    </tr>\n",
              "    <tr>\n",
              "      <th>54607</th>\n",
              "      <td>What happened at the US regulators’ bitcoin me...</td>\n",
              "      <td>2013-08-27</td>\n",
              "      <td>Yesterday Bitcoin Foundation had a meeting wit...</td>\n",
              "      <td>0</td>\n",
              "    </tr>\n",
              "    <tr>\n",
              "      <th>54608</th>\n",
              "      <td>Bitcoin is a bikers business</td>\n",
              "      <td>2013-08-05</td>\n",
              "      <td>LocalBitcoins.com sponsored an ambitious motor...</td>\n",
              "      <td>1</td>\n",
              "    </tr>\n",
              "  </tbody>\n",
              "</table>\n",
              "<p>54609 rows × 4 columns</p>\n",
              "</div>\n",
              "    <div class=\"colab-df-buttons\">\n",
              "\n",
              "  <div class=\"colab-df-container\">\n",
              "    <button class=\"colab-df-convert\" onclick=\"convertToInteractive('df-4ee06154-81b7-4cb5-9c79-3fdbd2c41457')\"\n",
              "            title=\"Convert this dataframe to an interactive table.\"\n",
              "            style=\"display:none;\">\n",
              "\n",
              "  <svg xmlns=\"http://www.w3.org/2000/svg\" height=\"24px\" viewBox=\"0 -960 960 960\">\n",
              "    <path d=\"M120-120v-720h720v720H120Zm60-500h600v-160H180v160Zm220 220h160v-160H400v160Zm0 220h160v-160H400v160ZM180-400h160v-160H180v160Zm440 0h160v-160H620v160ZM180-180h160v-160H180v160Zm440 0h160v-160H620v160Z\"/>\n",
              "  </svg>\n",
              "    </button>\n",
              "\n",
              "  <style>\n",
              "    .colab-df-container {\n",
              "      display:flex;\n",
              "      gap: 12px;\n",
              "    }\n",
              "\n",
              "    .colab-df-convert {\n",
              "      background-color: #E8F0FE;\n",
              "      border: none;\n",
              "      border-radius: 50%;\n",
              "      cursor: pointer;\n",
              "      display: none;\n",
              "      fill: #1967D2;\n",
              "      height: 32px;\n",
              "      padding: 0 0 0 0;\n",
              "      width: 32px;\n",
              "    }\n",
              "\n",
              "    .colab-df-convert:hover {\n",
              "      background-color: #E2EBFA;\n",
              "      box-shadow: 0px 1px 2px rgba(60, 64, 67, 0.3), 0px 1px 3px 1px rgba(60, 64, 67, 0.15);\n",
              "      fill: #174EA6;\n",
              "    }\n",
              "\n",
              "    .colab-df-buttons div {\n",
              "      margin-bottom: 4px;\n",
              "    }\n",
              "\n",
              "    [theme=dark] .colab-df-convert {\n",
              "      background-color: #3B4455;\n",
              "      fill: #D2E3FC;\n",
              "    }\n",
              "\n",
              "    [theme=dark] .colab-df-convert:hover {\n",
              "      background-color: #434B5C;\n",
              "      box-shadow: 0px 1px 3px 1px rgba(0, 0, 0, 0.15);\n",
              "      filter: drop-shadow(0px 1px 2px rgba(0, 0, 0, 0.3));\n",
              "      fill: #FFFFFF;\n",
              "    }\n",
              "  </style>\n",
              "\n",
              "    <script>\n",
              "      const buttonEl =\n",
              "        document.querySelector('#df-4ee06154-81b7-4cb5-9c79-3fdbd2c41457 button.colab-df-convert');\n",
              "      buttonEl.style.display =\n",
              "        google.colab.kernel.accessAllowed ? 'block' : 'none';\n",
              "\n",
              "      async function convertToInteractive(key) {\n",
              "        const element = document.querySelector('#df-4ee06154-81b7-4cb5-9c79-3fdbd2c41457');\n",
              "        const dataTable =\n",
              "          await google.colab.kernel.invokeFunction('convertToInteractive',\n",
              "                                                    [key], {});\n",
              "        if (!dataTable) return;\n",
              "\n",
              "        const docLinkHtml = 'Like what you see? Visit the ' +\n",
              "          '<a target=\"_blank\" href=https://colab.research.google.com/notebooks/data_table.ipynb>data table notebook</a>'\n",
              "          + ' to learn more about interactive tables.';\n",
              "        element.innerHTML = '';\n",
              "        dataTable['output_type'] = 'display_data';\n",
              "        await google.colab.output.renderOutput(dataTable, element);\n",
              "        const docLink = document.createElement('div');\n",
              "        docLink.innerHTML = docLinkHtml;\n",
              "        element.appendChild(docLink);\n",
              "      }\n",
              "    </script>\n",
              "  </div>\n",
              "\n",
              "\n",
              "<div id=\"df-8a008b9a-98e3-4d9a-bd5d-2ce35d5ebd19\">\n",
              "  <button class=\"colab-df-quickchart\" onclick=\"quickchart('df-8a008b9a-98e3-4d9a-bd5d-2ce35d5ebd19')\"\n",
              "            title=\"Suggest charts\"\n",
              "            style=\"display:none;\">\n",
              "\n",
              "<svg xmlns=\"http://www.w3.org/2000/svg\" height=\"24px\"viewBox=\"0 0 24 24\"\n",
              "     width=\"24px\">\n",
              "    <g>\n",
              "        <path d=\"M19 3H5c-1.1 0-2 .9-2 2v14c0 1.1.9 2 2 2h14c1.1 0 2-.9 2-2V5c0-1.1-.9-2-2-2zM9 17H7v-7h2v7zm4 0h-2V7h2v10zm4 0h-2v-4h2v4z\"/>\n",
              "    </g>\n",
              "</svg>\n",
              "  </button>\n",
              "\n",
              "<style>\n",
              "  .colab-df-quickchart {\n",
              "      --bg-color: #E8F0FE;\n",
              "      --fill-color: #1967D2;\n",
              "      --hover-bg-color: #E2EBFA;\n",
              "      --hover-fill-color: #174EA6;\n",
              "      --disabled-fill-color: #AAA;\n",
              "      --disabled-bg-color: #DDD;\n",
              "  }\n",
              "\n",
              "  [theme=dark] .colab-df-quickchart {\n",
              "      --bg-color: #3B4455;\n",
              "      --fill-color: #D2E3FC;\n",
              "      --hover-bg-color: #434B5C;\n",
              "      --hover-fill-color: #FFFFFF;\n",
              "      --disabled-bg-color: #3B4455;\n",
              "      --disabled-fill-color: #666;\n",
              "  }\n",
              "\n",
              "  .colab-df-quickchart {\n",
              "    background-color: var(--bg-color);\n",
              "    border: none;\n",
              "    border-radius: 50%;\n",
              "    cursor: pointer;\n",
              "    display: none;\n",
              "    fill: var(--fill-color);\n",
              "    height: 32px;\n",
              "    padding: 0;\n",
              "    width: 32px;\n",
              "  }\n",
              "\n",
              "  .colab-df-quickchart:hover {\n",
              "    background-color: var(--hover-bg-color);\n",
              "    box-shadow: 0 1px 2px rgba(60, 64, 67, 0.3), 0 1px 3px 1px rgba(60, 64, 67, 0.15);\n",
              "    fill: var(--button-hover-fill-color);\n",
              "  }\n",
              "\n",
              "  .colab-df-quickchart-complete:disabled,\n",
              "  .colab-df-quickchart-complete:disabled:hover {\n",
              "    background-color: var(--disabled-bg-color);\n",
              "    fill: var(--disabled-fill-color);\n",
              "    box-shadow: none;\n",
              "  }\n",
              "\n",
              "  .colab-df-spinner {\n",
              "    border: 2px solid var(--fill-color);\n",
              "    border-color: transparent;\n",
              "    border-bottom-color: var(--fill-color);\n",
              "    animation:\n",
              "      spin 1s steps(1) infinite;\n",
              "  }\n",
              "\n",
              "  @keyframes spin {\n",
              "    0% {\n",
              "      border-color: transparent;\n",
              "      border-bottom-color: var(--fill-color);\n",
              "      border-left-color: var(--fill-color);\n",
              "    }\n",
              "    20% {\n",
              "      border-color: transparent;\n",
              "      border-left-color: var(--fill-color);\n",
              "      border-top-color: var(--fill-color);\n",
              "    }\n",
              "    30% {\n",
              "      border-color: transparent;\n",
              "      border-left-color: var(--fill-color);\n",
              "      border-top-color: var(--fill-color);\n",
              "      border-right-color: var(--fill-color);\n",
              "    }\n",
              "    40% {\n",
              "      border-color: transparent;\n",
              "      border-right-color: var(--fill-color);\n",
              "      border-top-color: var(--fill-color);\n",
              "    }\n",
              "    60% {\n",
              "      border-color: transparent;\n",
              "      border-right-color: var(--fill-color);\n",
              "    }\n",
              "    80% {\n",
              "      border-color: transparent;\n",
              "      border-right-color: var(--fill-color);\n",
              "      border-bottom-color: var(--fill-color);\n",
              "    }\n",
              "    90% {\n",
              "      border-color: transparent;\n",
              "      border-bottom-color: var(--fill-color);\n",
              "    }\n",
              "  }\n",
              "</style>\n",
              "\n",
              "  <script>\n",
              "    async function quickchart(key) {\n",
              "      const quickchartButtonEl =\n",
              "        document.querySelector('#' + key + ' button');\n",
              "      quickchartButtonEl.disabled = true;  // To prevent multiple clicks.\n",
              "      quickchartButtonEl.classList.add('colab-df-spinner');\n",
              "      try {\n",
              "        const charts = await google.colab.kernel.invokeFunction(\n",
              "            'suggestCharts', [key], {});\n",
              "      } catch (error) {\n",
              "        console.error('Error during call to suggestCharts:', error);\n",
              "      }\n",
              "      quickchartButtonEl.classList.remove('colab-df-spinner');\n",
              "      quickchartButtonEl.classList.add('colab-df-quickchart-complete');\n",
              "    }\n",
              "    (() => {\n",
              "      let quickchartButtonEl =\n",
              "        document.querySelector('#df-8a008b9a-98e3-4d9a-bd5d-2ce35d5ebd19 button');\n",
              "      quickchartButtonEl.style.display =\n",
              "        google.colab.kernel.accessAllowed ? 'block' : 'none';\n",
              "    })();\n",
              "  </script>\n",
              "</div>\n",
              "    </div>\n",
              "  </div>\n"
            ],
            "application/vnd.google.colaboratory.intrinsic+json": {
              "type": "dataframe",
              "variable_name": "df",
              "summary": "{\n  \"name\": \"df\",\n  \"rows\": 54609,\n  \"fields\": [\n    {\n      \"column\": \"title\",\n      \"properties\": {\n        \"dtype\": \"string\",\n        \"num_unique_values\": 54609,\n        \"samples\": [\n          \"Bitcoin \\u2018Danger Zone\\u2019 In 2 Days: Crypto Expert Explains What This Means\",\n          \"MicroStrategy Holds 130,000 Bitcoin Following $6 Million Purchase\",\n          \"Will Bitcoin Price Renews Lows Below $18,000?\"\n        ],\n        \"semantic_type\": \"\",\n        \"description\": \"\"\n      }\n    },\n    {\n      \"column\": \"date\",\n      \"properties\": {\n        \"dtype\": \"object\",\n        \"num_unique_values\": 2451,\n        \"samples\": [\n          \"2021-12-05\",\n          \"2021-12-11\",\n          \"2020-12-30\"\n        ],\n        \"semantic_type\": \"\",\n        \"description\": \"\"\n      }\n    },\n    {\n      \"column\": \"text\",\n      \"properties\": {\n        \"dtype\": \"string\",\n        \"num_unique_values\": 54609,\n        \"samples\": [\n          \"Crypto analyst Rekt Capital has dropped a peculiar analysis on when Bitcoin might resume its upward trajectory. According to a post on social media platform X by the popular analyst, Bitcoin could fin \\u2026\",\n          \"Founder and executive chairman for software company MicroStrategy announced a Bitcoin purchase of $6 million. According to a document file with the U.S. Securities and Exchange Commission (SEC), the c \\u2026\",\n          \"Bitcoin price is currently trading in a lower trading zone. The selling accelerated as the price breached below $19,000 for the first time since June. As long the price stayed below the mentioned leve \\u2026\"\n        ],\n        \"semantic_type\": \"\",\n        \"description\": \"\"\n      }\n    },\n    {\n      \"column\": \"sentiment\",\n      \"properties\": {\n        \"dtype\": \"number\",\n        \"std\": 0,\n        \"min\": 0,\n        \"max\": 2,\n        \"num_unique_values\": 3,\n        \"samples\": [\n          0,\n          1,\n          2\n        ],\n        \"semantic_type\": \"\",\n        \"description\": \"\"\n      }\n    }\n  ]\n}"
            }
          },
          "metadata": {},
          "execution_count": 8
        }
      ]
    },
    {
      "cell_type": "code",
      "execution_count": 9,
      "metadata": {
        "id": "4M7jm-64iy3a"
      },
      "outputs": [],
      "source": [
        "stop_words = set(stopwords.words('english'))\n",
        "lemmatizer = WordNetLemmatizer()"
      ]
    },
    {
      "cell_type": "code",
      "execution_count": 10,
      "metadata": {
        "id": "NgMZL4mli4Iq"
      },
      "outputs": [],
      "source": [
        "def tokenized_text(raw_text):\n",
        "  tokenized_str = nltk.word_tokenize(raw_text)\n",
        "  filtered_tokens = [i.lower() for i in tokenized_str if ( i not in string.punctuation )]\n",
        "  filtered_tokens = [i for i in filtered_tokens if ( i not in stop_words )]\n",
        "  tokens = [lemmatizer.lemmatize(word) for word in filtered_tokens]\n",
        "  return tokens"
      ]
    },
    {
      "cell_type": "code",
      "execution_count": 11,
      "metadata": {
        "id": "riwNSvsoi6Pb"
      },
      "outputs": [],
      "source": [
        "from gensim.models import Word2Vec"
      ]
    },
    {
      "cell_type": "code",
      "execution_count": 12,
      "metadata": {
        "id": "kkoR8gnKi8C3"
      },
      "outputs": [],
      "source": [
        "tokenized_articles = df.text.apply(tokenized_text)"
      ]
    },
    {
      "cell_type": "code",
      "source": [
        "tokenized_articles"
      ],
      "metadata": {
        "colab": {
          "base_uri": "https://localhost:8080/"
        },
        "id": "eSDELD5XZ97L",
        "outputId": "74697399-4ae9-4821-b4d8-49fc4bdcc3af"
      },
      "execution_count": 13,
      "outputs": [
        {
          "output_type": "execute_result",
          "data": {
            "text/plain": [
              "0        [press, release, xr, foundation, partnership, ...\n",
              "1        [may, 15, development, team, meme, token, proj...\n",
              "2        [governor, u.s., state, oklahoma, approved, ho...\n",
              "3        [group, central, bank, governor, head, supervi...\n",
              "4        [press, release, geneva, switzerland, may, 15,...\n",
              "                               ...                        \n",
              "54604    [sweden-based, company, kncminer, already, sta...\n",
              "54605    [mt, gox, greatest, bitcoin, exchange, world, ...\n",
              "54606    [internet, comment, periodically, similar, hob...\n",
              "54607    [yesterday, bitcoin, foundation, meeting, u, g...\n",
              "54608    [localbitcoins.com, sponsored, ambitious, moto...\n",
              "Name: text, Length: 54609, dtype: object"
            ]
          },
          "metadata": {},
          "execution_count": 13
        }
      ]
    },
    {
      "cell_type": "code",
      "execution_count": 14,
      "metadata": {
        "id": "ImhEBk3JjXzF"
      },
      "outputs": [],
      "source": [
        "word2vec_model = Word2Vec(tokenized_articles, vector_size=100, window=5, min_count=2, workers=4, epochs=15, sg=0)"
      ]
    },
    {
      "cell_type": "code",
      "execution_count": 15,
      "metadata": {
        "id": "JkPHIXQ4jvMF"
      },
      "outputs": [],
      "source": [
        "word_vectors = {}\n",
        "\n",
        "for row in tokenized_articles:\n",
        "    for token in row:\n",
        "        if token not in word_vectors:\n",
        "          try:\n",
        "            word_vectors[token] = word2vec_model.wv.get_vector(token)\n",
        "          except KeyError:\n",
        "            continue"
      ]
    },
    {
      "cell_type": "code",
      "execution_count": 16,
      "metadata": {
        "id": "wvEGR8bdkYH8"
      },
      "outputs": [],
      "source": [
        "def message_to_word_vectors(tokens, word_vectors=word_vectors):\n",
        "  vectors = []\n",
        "\n",
        "  for token in tokens:\n",
        "    try:\n",
        "      token_vector = word_vectors[token]\n",
        "      vectors.append(token_vector)\n",
        "    except KeyError:\n",
        "      continue\n",
        "\n",
        "  return np.array(vectors, dtype=float)"
      ]
    },
    {
      "cell_type": "code",
      "source": [
        "sentiment = df['sentiment']"
      ],
      "metadata": {
        "id": "8pyP7aCIdQio"
      },
      "execution_count": 17,
      "outputs": []
    },
    {
      "cell_type": "code",
      "source": [
        "df = pd.concat([sentiment, tokenized_articles], axis=1)"
      ],
      "metadata": {
        "id": "HaLsuCimdbof"
      },
      "execution_count": 18,
      "outputs": []
    },
    {
      "cell_type": "code",
      "execution_count": 19,
      "metadata": {
        "colab": {
          "base_uri": "https://localhost:8080/"
        },
        "id": "TM71kuapkxX5",
        "outputId": "d7bc6f05-b9fa-4e0c-f3ca-88690a59f320"
      },
      "outputs": [
        {
          "output_type": "execute_result",
          "data": {
            "text/plain": [
              "(38226, 8191, 8192)"
            ]
          },
          "metadata": {},
          "execution_count": 19
        }
      ],
      "source": [
        "df = df.sample(frac=1, random_state=1)\n",
        "df.reset_index(drop=True, inplace=True)\n",
        "\n",
        "split_index_1 = int(len(df) * 0.7)\n",
        "split_index_2 = int(len(df) * 0.85)\n",
        "\n",
        "train_df, val_df, test_df = df[:split_index_1], df[split_index_1:split_index_2], df[split_index_2:]\n",
        "\n",
        "len(train_df), len(val_df), len(test_df)"
      ]
    },
    {
      "cell_type": "code",
      "source": [
        "train_df['text'].shape"
      ],
      "metadata": {
        "colab": {
          "base_uri": "https://localhost:8080/"
        },
        "id": "wOzsIpnHfJyf",
        "outputId": "809c805f-ffef-4ece-d0d3-e7257f66925d"
      },
      "execution_count": 20,
      "outputs": [
        {
          "output_type": "execute_result",
          "data": {
            "text/plain": [
              "(38226,)"
            ]
          },
          "metadata": {},
          "execution_count": 20
        }
      ]
    },
    {
      "cell_type": "code",
      "execution_count": 21,
      "metadata": {
        "id": "u5HHzcpelxhl"
      },
      "outputs": [],
      "source": [
        "def processing_X_y(dff):\n",
        "  y = dff['sentiment'].to_numpy().astype(int)\n",
        "\n",
        "  all_word_vector_sequences = []\n",
        "\n",
        "  for message in dff['text']:\n",
        "    message_as_vector_seq = message_to_word_vectors(message)\n",
        "\n",
        "    if message_as_vector_seq.shape[0] == 0:\n",
        "      message_as_vector_seq = np.zeros(shape=(1, 100))\n",
        "\n",
        "    all_word_vector_sequences.append(message_as_vector_seq)\n",
        "\n",
        "  return all_word_vector_sequences, y"
      ]
    },
    {
      "cell_type": "code",
      "execution_count": 22,
      "metadata": {
        "id": "5fUL0JZKl3st"
      },
      "outputs": [],
      "source": [
        "X_train, y_train = processing_X_y(train_df)"
      ]
    },
    {
      "cell_type": "code",
      "execution_count": 23,
      "metadata": {
        "colab": {
          "base_uri": "https://localhost:8080/"
        },
        "id": "AYA4dZz2mBx9",
        "outputId": "3e2f3ec9-4eea-43c3-fcb0-489422518358"
      },
      "outputs": [
        {
          "output_type": "execute_result",
          "data": {
            "text/plain": [
              "count    38226.000000\n",
              "mean        16.557265\n",
              "std          4.952798\n",
              "min          1.000000\n",
              "25%         13.000000\n",
              "50%         17.000000\n",
              "75%         21.000000\n",
              "max         32.000000\n",
              "dtype: float64"
            ]
          },
          "metadata": {},
          "execution_count": 23
        }
      ],
      "source": [
        "sequence_lengths = []\n",
        "\n",
        "for i in range(len(X_train)):\n",
        "  sequence_lengths.append(len(X_train[i]))\n",
        "\n",
        "pd.Series(sequence_lengths).describe()"
      ]
    },
    {
      "cell_type": "code",
      "execution_count": 24,
      "metadata": {
        "id": "q_VhIZqmmfM8"
      },
      "outputs": [],
      "source": [
        "from copy import deepcopy\n",
        "\n",
        "def sequence_to_total_length(X, desired_sequence_length=25):\n",
        "  X_copy = deepcopy(X)\n",
        "\n",
        "  for i, x in enumerate(X):\n",
        "    x_seq_len = x.shape[0]\n",
        "    sequence_length_difference = desired_sequence_length - x_seq_len\n",
        "\n",
        "    if sequence_length_difference > 0:\n",
        "      pad = np.zeros(shape=(sequence_length_difference, 100))\n",
        "      X_copy[i] = np.concatenate([x, pad])\n",
        "    else:\n",
        "      X_copy[i] = x[:desired_sequence_length]\n",
        "\n",
        "\n",
        "  return np.array(X_copy).astype(float)"
      ]
    },
    {
      "cell_type": "code",
      "execution_count": 25,
      "metadata": {
        "colab": {
          "base_uri": "https://localhost:8080/"
        },
        "id": "qJQrQYvznviu",
        "outputId": "81e864d8-bbcc-4f7b-f989-30529148ec8a"
      },
      "outputs": [
        {
          "output_type": "execute_result",
          "data": {
            "text/plain": [
              "(38226, 25, 100)"
            ]
          },
          "metadata": {},
          "execution_count": 25
        }
      ],
      "source": [
        "X_train = sequence_to_total_length(X_train)\n",
        "\n",
        "X_train.shape"
      ]
    },
    {
      "cell_type": "code",
      "execution_count": 26,
      "metadata": {
        "id": "YXgWgkZvnyy9"
      },
      "outputs": [],
      "source": [
        "X_val, y_val = processing_X_y(val_df)\n",
        "X_val = sequence_to_total_length(X_val)\n",
        "\n",
        "X_test, y_test = processing_X_y(test_df)\n",
        "X_test = sequence_to_total_length(X_test)"
      ]
    },
    {
      "cell_type": "code",
      "source": [
        "from sklearn.utils.class_weight import compute_class_weight"
      ],
      "metadata": {
        "id": "Yo2Mg3ZWAAsH"
      },
      "execution_count": 27,
      "outputs": []
    },
    {
      "cell_type": "code",
      "source": [
        "sentiment_counts = train_df['sentiment'].value_counts()\n",
        "print(sentiment_counts)"
      ],
      "metadata": {
        "colab": {
          "base_uri": "https://localhost:8080/"
        },
        "id": "coN_h-MnATtc",
        "outputId": "5a7a910a-4f53-444e-8082-904306bfaf56"
      },
      "execution_count": 28,
      "outputs": [
        {
          "output_type": "stream",
          "name": "stdout",
          "text": [
            "sentiment\n",
            "0    20156\n",
            "1    10678\n",
            "2     7392\n",
            "Name: count, dtype: int64\n"
          ]
        }
      ]
    },
    {
      "cell_type": "code",
      "source": [
        "class_weights = compute_class_weight('balanced', classes=np.unique(y_train), y=y_train)\n",
        "class_weight_dict = dict(enumerate(class_weights))\n",
        "\n",
        "print(f'Веса классов: {class_weight_dict}')"
      ],
      "metadata": {
        "colab": {
          "base_uri": "https://localhost:8080/"
        },
        "id": "-y0YqpEN_-RD",
        "outputId": "2fa200a5-a4fa-42c7-9174-f7d5ed20b07d"
      },
      "execution_count": 29,
      "outputs": [
        {
          "output_type": "stream",
          "name": "stdout",
          "text": [
            "Веса классов: {0: 0.6321690811668982, 1: 1.1932946244615097, 2: 1.7237554112554112}\n"
          ]
        }
      ]
    },
    {
      "cell_type": "code",
      "source": [
        "from tensorflow.keras import layers\n",
        "from tensorflow.keras.models import Sequential\n",
        "\n",
        "model = Sequential([])\n",
        "\n",
        "model.add(layers.Input(shape=(25, 100)))\n",
        "model.add(layers.Bidirectional(layers.LSTM(64, return_sequences=True)))\n",
        "model.add(layers.Dropout(0.3))\n",
        "model.add(layers.Bidirectional(layers.LSTM(64, return_sequences=False)))\n",
        "model.add(layers.Dropout(0.3))\n",
        "model.add(layers.Dense(3, activation='softmax'))"
      ],
      "metadata": {
        "id": "kSI4tmLyOfsL"
      },
      "execution_count": 30,
      "outputs": []
    },
    {
      "cell_type": "code",
      "source": [
        "from tensorflow.keras.optimizers import Adam"
      ],
      "metadata": {
        "id": "HSHsxuq9PCeV"
      },
      "execution_count": 31,
      "outputs": []
    },
    {
      "cell_type": "code",
      "source": [
        "model.compile(optimizer=Adam(learning_rate=0.0001),\n",
        "              loss='sparse_categorical_crossentropy',\n",
        "              metrics=['accuracy'])"
      ],
      "metadata": {
        "id": "LZ2jkHpvPJdt"
      },
      "execution_count": 32,
      "outputs": []
    },
    {
      "cell_type": "code",
      "source": [
        "history = model.fit(X_train, y_train, validation_data=(X_val, y_val), epochs=20, batch_size=512, class_weight=class_weight_dict)"
      ],
      "metadata": {
        "colab": {
          "base_uri": "https://localhost:8080/"
        },
        "id": "J9YJWUP2PLVd",
        "outputId": "85fd1a54-80aa-4e4e-c87f-9b32dfdde688"
      },
      "execution_count": 33,
      "outputs": [
        {
          "output_type": "stream",
          "name": "stdout",
          "text": [
            "Epoch 1/20\n",
            "75/75 [==============================] - 46s 494ms/step - loss: 1.0661 - accuracy: 0.4514 - val_loss: 1.0053 - val_accuracy: 0.5259\n",
            "Epoch 2/20\n",
            "75/75 [==============================] - 35s 468ms/step - loss: 0.9832 - accuracy: 0.5304 - val_loss: 0.9548 - val_accuracy: 0.5393\n",
            "Epoch 3/20\n",
            "75/75 [==============================] - 37s 497ms/step - loss: 0.9431 - accuracy: 0.5556 - val_loss: 0.9408 - val_accuracy: 0.5488\n",
            "Epoch 4/20\n",
            "75/75 [==============================] - 34s 451ms/step - loss: 0.9274 - accuracy: 0.5629 - val_loss: 0.9362 - val_accuracy: 0.5554\n",
            "Epoch 5/20\n",
            "75/75 [==============================] - 34s 455ms/step - loss: 0.9166 - accuracy: 0.5695 - val_loss: 0.9109 - val_accuracy: 0.5722\n",
            "Epoch 6/20\n",
            "75/75 [==============================] - 37s 501ms/step - loss: 0.9063 - accuracy: 0.5749 - val_loss: 0.9066 - val_accuracy: 0.5745\n",
            "Epoch 7/20\n",
            "75/75 [==============================] - 35s 458ms/step - loss: 0.8995 - accuracy: 0.5769 - val_loss: 0.9019 - val_accuracy: 0.5776\n",
            "Epoch 8/20\n",
            "75/75 [==============================] - 34s 450ms/step - loss: 0.8914 - accuracy: 0.5859 - val_loss: 0.9021 - val_accuracy: 0.5765\n",
            "Epoch 9/20\n",
            "75/75 [==============================] - 34s 449ms/step - loss: 0.8850 - accuracy: 0.5859 - val_loss: 0.8974 - val_accuracy: 0.5789\n",
            "Epoch 10/20\n",
            "75/75 [==============================] - 36s 477ms/step - loss: 0.8781 - accuracy: 0.5897 - val_loss: 0.8851 - val_accuracy: 0.5903\n",
            "Epoch 11/20\n",
            "75/75 [==============================] - 36s 480ms/step - loss: 0.8721 - accuracy: 0.5932 - val_loss: 0.8723 - val_accuracy: 0.5976\n",
            "Epoch 12/20\n",
            "75/75 [==============================] - 34s 459ms/step - loss: 0.8669 - accuracy: 0.5998 - val_loss: 0.9003 - val_accuracy: 0.5784\n",
            "Epoch 13/20\n",
            "75/75 [==============================] - 35s 472ms/step - loss: 0.8616 - accuracy: 0.5978 - val_loss: 0.8842 - val_accuracy: 0.5880\n",
            "Epoch 14/20\n",
            "75/75 [==============================] - 37s 489ms/step - loss: 0.8568 - accuracy: 0.6019 - val_loss: 0.8824 - val_accuracy: 0.5931\n",
            "Epoch 15/20\n",
            "75/75 [==============================] - 34s 454ms/step - loss: 0.8520 - accuracy: 0.6071 - val_loss: 0.8644 - val_accuracy: 0.5999\n",
            "Epoch 16/20\n",
            "75/75 [==============================] - 37s 493ms/step - loss: 0.8471 - accuracy: 0.6087 - val_loss: 0.8962 - val_accuracy: 0.5788\n",
            "Epoch 17/20\n",
            "75/75 [==============================] - 34s 455ms/step - loss: 0.8438 - accuracy: 0.6095 - val_loss: 0.8862 - val_accuracy: 0.5920\n",
            "Epoch 18/20\n",
            "75/75 [==============================] - 34s 458ms/step - loss: 0.8366 - accuracy: 0.6147 - val_loss: 0.8640 - val_accuracy: 0.6070\n",
            "Epoch 19/20\n",
            "75/75 [==============================] - 37s 494ms/step - loss: 0.8337 - accuracy: 0.6149 - val_loss: 0.8586 - val_accuracy: 0.6066\n",
            "Epoch 20/20\n",
            "75/75 [==============================] - 34s 458ms/step - loss: 0.8300 - accuracy: 0.6187 - val_loss: 0.8859 - val_accuracy: 0.5904\n"
          ]
        }
      ]
    },
    {
      "cell_type": "code",
      "source": [
        "results = model.evaluate(X_test, y_test)\n",
        "\n",
        "print('Test loss: {:.4f}'.format(results[0]))\n",
        "print('Test accuracy: {:.2f} %'.format(results[1]*100))"
      ],
      "metadata": {
        "colab": {
          "base_uri": "https://localhost:8080/"
        },
        "id": "bO_PDUxvPgVN",
        "outputId": "16a13c4c-97e3-4f35-d6d6-27b2595965bc"
      },
      "execution_count": 34,
      "outputs": [
        {
          "output_type": "stream",
          "name": "stdout",
          "text": [
            "256/256 [==============================] - 4s 17ms/step - loss: 0.8727 - accuracy: 0.5919\n",
            "Test loss: 0.8727\n",
            "Test accuracy: 59.19 %\n"
          ]
        }
      ]
    },
    {
      "cell_type": "code",
      "source": [
        "from sklearn.metrics import classification_report, confusion_matrix"
      ],
      "metadata": {
        "id": "5Ep8N28WSzPV"
      },
      "execution_count": 35,
      "outputs": []
    },
    {
      "cell_type": "code",
      "source": [
        "y_pred = model.predict(X_test)\n",
        "y_pred_classes = np.argmax(y_pred, axis=1)\n",
        "\n",
        "print(classification_report(y_test, y_pred_classes))"
      ],
      "metadata": {
        "colab": {
          "base_uri": "https://localhost:8080/"
        },
        "id": "A9_LDcUNS0Yi",
        "outputId": "768b9958-1df7-4abd-cd9d-c54cb3790ce7"
      },
      "execution_count": 36,
      "outputs": [
        {
          "output_type": "stream",
          "name": "stdout",
          "text": [
            "256/256 [==============================] - 7s 22ms/step\n",
            "              precision    recall  f1-score   support\n",
            "\n",
            "           0       0.78      0.62      0.69      4323\n",
            "           1       0.46      0.49      0.47      2227\n",
            "           2       0.46      0.66      0.54      1642\n",
            "\n",
            "    accuracy                           0.59      8192\n",
            "   macro avg       0.56      0.59      0.57      8192\n",
            "weighted avg       0.63      0.59      0.60      8192\n",
            "\n"
          ]
        }
      ]
    },
    {
      "cell_type": "code",
      "source": [
        "import seaborn as sns\n",
        "import matplotlib.pyplot as plt"
      ],
      "metadata": {
        "id": "rD8tVI0JXs9X"
      },
      "execution_count": 37,
      "outputs": []
    },
    {
      "cell_type": "code",
      "source": [
        "conf_matrix = confusion_matrix(y_test, y_pred_classes)"
      ],
      "metadata": {
        "id": "5waEd1VwX1Wa"
      },
      "execution_count": 38,
      "outputs": []
    },
    {
      "cell_type": "code",
      "source": [
        "plt.figure(figsize=(8, 6))\n",
        "sns.set(font_scale=1.2)\n",
        "sns.heatmap(conf_matrix, annot=True, fmt='d', cmap='Blues', cbar=False,\n",
        "            xticklabels=['Class 0', 'Class 1', 'Class 2'],\n",
        "            yticklabels=['Class 0', 'Class 1', 'Class 2'])\n",
        "plt.xlabel('Predicted labels')\n",
        "plt.ylabel('True labels')\n",
        "plt.title('Confusion Matrix')\n",
        "plt.show()"
      ],
      "metadata": {
        "colab": {
          "base_uri": "https://localhost:8080/",
          "height": 578
        },
        "id": "GMlKCTlFXyli",
        "outputId": "848ada54-b6ae-4375-a444-f8125b5b133d"
      },
      "execution_count": 39,
      "outputs": [
        {
          "output_type": "display_data",
          "data": {
            "text/plain": [
              "<Figure size 800x600 with 1 Axes>"
            ],
            "image/png": "[encoded data removed]"
          },
          "metadata": {}
        }
      ]
    },
    {
      "cell_type": "code",
      "source": [
        "plt.figure(figsize=(10, 6))\n",
        "plt.plot(history.history['accuracy'], label='Training Accuracy')\n",
        "plt.plot(history.history['val_accuracy'], label='Validation Accuracy')\n",
        "plt.title('Training and Validation Accuracy')\n",
        "plt.xlabel('Epochs')\n",
        "plt.ylabel('Accuracy')\n",
        "plt.legend()\n",
        "plt.show()\n",
        "\n",
        "plt.figure(figsize=(10, 6))\n",
        "plt.plot(history.history['loss'], label='Training Loss')\n",
        "plt.plot(history.history['val_loss'], label='Validation Loss')\n",
        "plt.title('Training and Validation Loss')\n",
        "plt.xlabel('Epochs')\n",
        "plt.ylabel('Loss')\n",
        "plt.legend()\n",
        "plt.show()"
      ],
      "metadata": {
        "id": "MjI0ha7gaTAe",
        "colab": {
          "base_uri": "https://localhost:8080/",
          "height": 1000
        },
        "outputId": "7515d9d8-912d-4752-d375-c39562f58fe6"
      },
      "execution_count": 40,
      "outputs": [
        {
          "output_type": "display_data",
          "data": {
            "text/plain": [
              "<Figure size 1000x600 with 1 Axes>"
            ],
            "image/png": "[encoded data removed]"
          },
          "metadata": {}
        },
        {
          "output_type": "display_data",
          "data": {
            "text/plain": [
              "<Figure size 1000x600 with 1 Axes>"
            ],
            "image/png": "[encoded data removed]"
          },
          "metadata": {}
        }
      ]
    },
    {
      "cell_type": "code",
      "source": [],
      "metadata": {
        "id": "zSpK0nFWKKbJ"
      },
      "execution_count": null,
      "outputs": []
    }
  ],
  "metadata": {
    "colab": {
      "provenance": [],
      "mount_file_id": "1xYImJTkG0dhe8VusmQ_b3MDByPZ_R9GE",
      "authorship_tag": "ABX9TyNitZ8pPaLLdMPlcQ5rbNWy",
      "include_colab_link": true
    },
    "kernelspec": {
      "display_name": "Python 3",
      "name": "python3"
    },
    "language_info": {
      "name": "python"
    }
  },
  "nbformat": 4,
  "nbformat_minor": 0
}